{
 "cells": [
  {
   "cell_type": "code",
   "execution_count": null,
   "metadata": {},
   "outputs": [],
   "source": [
    "def gimme_two():\n",
    "  calc = True\n",
    "  while calc:\n",
    "    prompt = \"\\nGive me two numbers, I'll give you their sum :\"\n",
    "    prompt += \"\\nEnter 'quit' to end the program anytime.\"\n",
    "    message = input(prompt)\n",
    "    if message == 'quit':\n",
    "      calc = False  \n",
    "      print('program ended')\n",
    "    else:\n",
    "      two_nums_lst = message.split(\" \")\n",
    "      for i in two_nums_lst:\n",
    "        a = two_nums_lst[0]\n",
    "        b = two_nums_lst[1]\n",
    "      print(int(a) + int(b))\n",
    "    \n",
    "gimme_two()\n",
    "\n",
    "\n",
    "\n",
    "def x_pyramid(nth):\n",
    "  for i in range(nth+1):\n",
    "    print(' ' * (nth - i) + 'x' * (i * 2 - 1) + ' ' * (nth - i))\n",
    "\n",
    "x_pyramid(5)"
   ]
  }
 ],
 "metadata": {
  "kernelspec": {
   "display_name": "Python 3",
   "language": "python",
   "name": "python3"
  },
  "language_info": {
   "codemirror_mode": {
    "name": "ipython",
    "version": 3
   },
   "file_extension": ".py",
   "mimetype": "text/x-python",
   "name": "python",
   "nbconvert_exporter": "python",
   "pygments_lexer": "ipython3",
   "version": "3.8.5"
  }
 },
 "nbformat": 4,
 "nbformat_minor": 4
}
